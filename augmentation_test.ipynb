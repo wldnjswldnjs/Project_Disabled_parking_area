{
 "cells": [
  {
   "cell_type": "code",
   "execution_count": 1,
   "metadata": {
    "colab": {
     "base_uri": "https://localhost:8080/"
    },
    "executionInfo": {
     "elapsed": 4154,
     "status": "ok",
     "timestamp": 1654502242315,
     "user": {
      "displayName": "YS O",
      "userId": "11274955894973386289"
     },
     "user_tz": -540
    },
    "id": "i2kEs-Z9tK1Y",
    "outputId": "4ace59f0-1c98-41f6-89c3-2a73b86e36bc"
   },
   "outputs": [
    {
     "name": "stdout",
     "output_type": "stream",
     "text": [
      "Requirement already satisfied: Augmentor in /home/ubuntu/anaconda3/envs/yolov5/lib/python3.9/site-packages (0.2.10)\n",
      "Requirement already satisfied: Pillow>=5.2.0 in /home/ubuntu/anaconda3/envs/yolov5/lib/python3.9/site-packages (from Augmentor) (9.0.1)\n",
      "Requirement already satisfied: tqdm>=4.9.0 in /home/ubuntu/anaconda3/envs/yolov5/lib/python3.9/site-packages (from Augmentor) (4.64.0)\n",
      "Requirement already satisfied: numpy>=1.11.0 in /home/ubuntu/anaconda3/envs/yolov5/lib/python3.9/site-packages (from Augmentor) (1.22.3)\n",
      "Requirement already satisfied: future>=0.16.0 in /home/ubuntu/anaconda3/envs/yolov5/lib/python3.9/site-packages (from Augmentor) (0.18.2)\n",
      "Note: you may need to restart the kernel to use updated packages.\n"
     ]
    }
   ],
   "source": [
    "pip install Augmentor"
   ]
  },
  {
   "cell_type": "code",
   "execution_count": 8,
   "metadata": {
    "id": "qP_Fae4EtNLP"
   },
   "outputs": [],
   "source": [
    "import Augmentor"
   ]
  },
  {
   "cell_type": "code",
   "execution_count": 14,
   "metadata": {},
   "outputs": [
    {
     "name": "stdout",
     "output_type": "stream",
     "text": [
      "/home/lab34\n",
      "/home/lab34/images\n"
     ]
    }
   ],
   "source": [
    "!pwd\n",
    "%cd images"
   ]
  },
  {
   "cell_type": "code",
   "execution_count": 15,
   "metadata": {
    "colab": {
     "base_uri": "https://localhost:8080/"
    },
    "executionInfo": {
     "elapsed": 8718,
     "status": "ok",
     "timestamp": 1654502255674,
     "user": {
      "displayName": "YS O",
      "userId": "11274955894973386289"
     },
     "user_tz": -540
    },
    "id": "3J4ExTUttNNr",
    "outputId": "74cd6690-a5d4-4387-e2fe-826bec90163d"
   },
   "outputs": [
    {
     "name": "stdout",
     "output_type": "stream",
     "text": [
      "Initialised with 50 image(s) found.\n",
      "Output directory set to /home/lab34/images/output."
     ]
    },
    {
     "name": "stderr",
     "output_type": "stream",
     "text": [
      "Processing <PIL.Image.Image image mode=RGB size=4032x3024 at 0x7F452C071190>: 10\n"
     ]
    }
   ],
   "source": [
    "img = Augmentor.Pipeline(\"/home/lab34/images\")\n",
    "\n",
    "# # 좌우 반전\n",
    "# img.flip_left_right(probability=1.0) \n",
    "\n",
    "# # 상하 반전\n",
    "# img.flip_top_bottom(probability=1.0)\n",
    "\n",
    "# #모퉁이 왜곡\n",
    "# img.skew_corner(probability=1.0)\n",
    "\n",
    "# #회전&크롭\n",
    "img.rotate_without_crop(probability=1, max_left_rotation=100, max_right_rotation=0.8, expand=False, fillcolor=None)\n",
    "\n",
    "# # 왜곡\n",
    "# img.random_distortion(probability=1, grid_width=10, grid_height=10, magnitude=30)\n",
    "\n",
    "# #확대\n",
    "# img.zoom_random(probability=1, percentage_area=0.8)\n",
    "\n",
    "# #크롭\n",
    "# img.crop_random(probability=1, percentage_area=0.8, randomise_percentage_area=False)\n",
    "\n",
    "# #랜덤 지우기\n",
    "# img.random_erasing(probability=1.0, rectangle_area=0.3)\n",
    "\n",
    "# 증강 이미지 수\n",
    "img.sample(100)"
   ]
  },
  {
   "cell_type": "code",
   "execution_count": null,
   "metadata": {
    "id": "LHuQx4n-tNQG"
   },
   "outputs": [],
   "source": []
  },
  {
   "cell_type": "code",
   "execution_count": null,
   "metadata": {
    "id": "-QQgRi07tNSi"
   },
   "outputs": [],
   "source": []
  },
  {
   "cell_type": "code",
   "execution_count": null,
   "metadata": {
    "id": "q202V0tYtNVT"
   },
   "outputs": [],
   "source": []
  },
  {
   "cell_type": "code",
   "execution_count": null,
   "metadata": {
    "id": "NtKVKKIZtNXw"
   },
   "outputs": [],
   "source": []
  },
  {
   "cell_type": "code",
   "execution_count": null,
   "metadata": {
    "id": "dbegaSTttNag"
   },
   "outputs": [],
   "source": []
  },
  {
   "cell_type": "code",
   "execution_count": null,
   "metadata": {
    "id": "omLGe3SAtNc7"
   },
   "outputs": [],
   "source": []
  },
  {
   "cell_type": "code",
   "execution_count": null,
   "metadata": {
    "id": "4XA4agWTtNfY"
   },
   "outputs": [],
   "source": []
  },
  {
   "cell_type": "code",
   "execution_count": null,
   "metadata": {
    "id": "wygqaE96tNhz"
   },
   "outputs": [],
   "source": []
  }
 ],
 "metadata": {
  "colab": {
   "authorship_tag": "ABX9TyMW2D7Ysw1Nq0D/4YKjrjlT",
   "name": "augmentation_test.ipynb",
   "provenance": []
  },
  "kernelspec": {
   "display_name": "Python 3 (ipykernel)",
   "language": "python",
   "name": "python3"
  },
  "language_info": {
   "codemirror_mode": {
    "name": "ipython",
    "version": 3
   },
   "file_extension": ".py",
   "mimetype": "text/x-python",
   "name": "python",
   "nbconvert_exporter": "python",
   "pygments_lexer": "ipython3",
   "version": "3.9.7"
  }
 },
 "nbformat": 4,
 "nbformat_minor": 1
}
