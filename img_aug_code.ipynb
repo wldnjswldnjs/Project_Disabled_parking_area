{
 "cells": [
  {
   "cell_type": "code",
   "execution_count": null,
   "id": "036e085c",
   "metadata": {},
   "outputs": [],
   "source": [
    "pip install Augmentor"
   ]
  },
  {
   "cell_type": "code",
   "execution_count": null,
   "id": "48de4e02",
   "metadata": {},
   "outputs": [],
   "source": [
    "import Augmentor\n",
    "\n",
    "img = Augmentor.Pipeline(\"./jw_disable2\")\n",
    "\n",
    "# # 좌우 반전\n",
    "# img.flip_left_right(probability=1.0) \n",
    "\n",
    "# # 상하 반전\n",
    "# img.flip_top_bottom(probability=1.0)\n",
    "\n",
    "# 모퉁이 왜곡\n",
    "# img.skew_corner(probability=1.0)\n",
    "\n",
    "# #회전&크롭\n",
    "# img.rotate_without_crop(probability=1, max_left_rotation=100, max_right_rotation=0.8, expand=False, fillcolor=None)\n",
    "\n",
    "# 왜곡\n",
    "# img.random_distortion(probability=1, grid_width=10, grid_height=10, magnitude=30)\n",
    "\n",
    "# #확대\n",
    "# img.zoom_random(probability=1, percentage_area=0.8)\n",
    "\n",
    "# #크롭\n",
    "# img.crop_random(probability=1, percentage_area=0.8, randomise_percentage_area=False)\n",
    "\n",
    "# #랜덤 지우기\n",
    "# img.random_erasing(probability=1.0, rectangle_area=0.3)\n",
    "\n",
    "# 증강 이미지 수\n",
    "img.sample(200)  # ouput 파일 생성 됨"
   ]
  },
  {
   "cell_type": "code",
   "execution_count": null,
   "id": "f26d8840",
   "metadata": {},
   "outputs": [],
   "source": [
    "from PIL import Image, ImageEnhance, ImageFilter\n",
    "import numpy as np\n",
    "import os\n",
    "img_lst = os.listdir('image_data/raw_data')                # 작업할 이미지 dir list"
   ]
  },
  {
   "cell_type": "markdown",
   "id": "fe17b678",
   "metadata": {
    "id": "fe17b678"
   },
   "source": [
    "### Brightness (밝기 조정)"
   ]
  },
  {
   "cell_type": "code",
   "execution_count": null,
   "id": "ee3527e6",
   "metadata": {},
   "outputs": [],
   "source": [
    "for i in img_lst:\n",
    "    f_name = i.filename\n",
    "    img = Image.open(f_name)\n",
    "    file_nm = f_name.split('/')[-1]\n",
    "    img_darked  = ImageEnhance.Brightness(img).enhance(.4)\n",
    "    img_darked.save('dataset_spin/images/dark_'+file_nm)"
   ]
  },
  {
   "cell_type": "code",
   "execution_count": null,
   "id": "f65ecbf8",
   "metadata": {
    "id": "f65ecbf8"
   },
   "outputs": [],
   "source": [
    "img.filename\n",
    "img.show()"
   ]
  },
  {
   "cell_type": "markdown",
   "id": "d2cf752d",
   "metadata": {
    "id": "d2cf752d"
   },
   "source": [
    "### color balance (채도)\n",
    "- 1: original image\n",
    "- 0: An enhancement factor of 0.0 gives a black and white image"
   ]
  },
  {
   "cell_type": "code",
   "execution_count": null,
   "id": "03de66c7",
   "metadata": {},
   "outputs": [],
   "source": [
    "img = Image.open('dataset_spin/images/spin(100).jpg')"
   ]
  },
  {
   "cell_type": "code",
   "execution_count": null,
   "id": "34c06a5e",
   "metadata": {},
   "outputs": [],
   "source": [
    "img1 = ImageEnhance.Color(img).enhance(2)\n",
    "img1.show()"
   ]
  },
  {
   "cell_type": "code",
   "execution_count": null,
   "id": "6676fe58",
   "metadata": {},
   "outputs": [],
   "source": [
    "ImageEnhance.Color(img).enhance(3)"
   ]
  },
  {
   "cell_type": "markdown",
   "id": "763c1a32",
   "metadata": {
    "id": "763c1a32"
   },
   "source": [
    "### Contrast(대비)\n",
    "- 1: original image"
   ]
  },
  {
   "cell_type": "code",
   "execution_count": null,
   "id": "904781ca",
   "metadata": {},
   "outputs": [],
   "source": [
    "img2 = ImageEnhance.Contrast(img).enhance(.8)\n",
    "img2.show()"
   ]
  },
  {
   "cell_type": "code",
   "execution_count": null,
   "id": "922c7caa",
   "metadata": {},
   "outputs": [],
   "source": [
    "ImageEnhance.Contrast(img).enhance(.5)"
   ]
  },
  {
   "cell_type": "markdown",
   "id": "d0d3192a",
   "metadata": {
    "id": "d0d3192a"
   },
   "source": [
    "### Sharpness (선예도)\n",
    "- 0.0 : a blurred image\n",
    "- 1.0 : the original image\n",
    "- 2.0 : a sharpened image."
   ]
  },
  {
   "cell_type": "code",
   "execution_count": null,
   "id": "61a6932b",
   "metadata": {
    "id": "61a6932b"
   },
   "outputs": [],
   "source": [
    "img3 = ImageEnhance.Sharpness(img).enhance(0)\n",
    "img3.show()"
   ]
  },
  {
   "cell_type": "markdown",
   "id": "84355132",
   "metadata": {
    "id": "84355132"
   },
   "source": [
    "### 이미지 필터링"
   ]
  },
  {
   "cell_type": "code",
   "execution_count": null,
   "id": "efdb7a96",
   "metadata": {
    "id": "efdb7a96"
   },
   "outputs": [],
   "source": [
    "filter_list = [ImageFilter.BLUR, ImageFilter.CONTOUR, ImageFilter.DETAIL,\n",
    "               ImageFilter.EDGE_ENHANCE, ImageFilter.EDGE_ENHANCE_MORE, ImageFilter.EMBOSS, ImageFilter.FIND_EDGES,\n",
    "               ImageFilter.SHARPEN, ImageFilter.SMOOTH, ImageFilter.SMOOTH_MORE]\n",
    "\n",
    "for i in range(len(filter_list)):\n",
    "    filter_img = img.filter(filter_list[i])\n",
    "    #filter_img.show()\n",
    "    filter_img.save(\"image_filtering/filter_img_{}.jpg\".format(i))"
   ]
  },
  {
   "cell_type": "code",
   "execution_count": null,
   "id": "f59035b6",
   "metadata": {},
   "outputs": [],
   "source": [
    "ImageEnhance.Brightness(img).enhance(3)"
   ]
  },
  {
   "cell_type": "markdown",
   "id": "50fc5a5d",
   "metadata": {
    "id": "50fc5a5d"
   },
   "source": [
    "### 명도, 채도, 대비 조정 (random)\n",
    "\n",
    "- 명도, 채도, 대비 각각의 경우 0,1 랜덤추출로 경우의 수 구분\n",
    "- enhance 값의 경우, 리스트화한 후 랜덤추출로 진행\n",
    "- 각각의 case 가 달라질 수 있으므로 변수 하나로 통칭 없이 각자 적용"
   ]
  },
  {
   "cell_type": "code",
   "execution_count": null,
   "id": "b989c001",
   "metadata": {},
   "outputs": [],
   "source": [
    "from PIL import Image, ImageEnhance, ImageFilter\n",
    "import numpy as np\n",
    "import os\n",
    "\n",
    "img_lst = os.listdir('./dataset_spin/images')  # image dir 변경시 해당 경로 수정\n",
    "\n",
    "img_lst = [file for file in img_lst if file.endswith(\".jpg\") or file.endswith(\".JPG\")]\n",
    "\n",
    "print(len(img_lst))"
   ]
  },
  {
   "cell_type": "code",
   "execution_count": null,
   "id": "732a885c",
   "metadata": {
    "id": "732a885c"
   },
   "outputs": [],
   "source": [
    "for i in img_lst:\n",
    "#     f_name = i.filename\n",
    "    img = Image.open('image_data/raw_data/'+i)\n",
    "#     file_nm = f_name.split('/')[-1]\n",
    "    onoff_chk = np.random.choice([0,1], 3)\n",
    "    if onoff_chk[0] :   # 명도 조절 여부 check\n",
    "        img  = ImageEnhance.Brightness(img).enhance(np.random.choice(np.arange(.1, 3, .2)).round(3))\n",
    "    if onoff_chk[1] :   # 채도 조절 여부 check\n",
    "        img  = ImageEnhance.Color(img).enhance(np.random.choice(np.arange(.1, 3, .2)).round(3))\n",
    "    if onoff_chk[2] :   # 대비 조절 여부 check\n",
    "        img  = ImageEnhance.Contrast(img).enhance(np.random.choice(np.arange(.1, 3, .2)).round(3))\n",
    "    img.save('image_data/images/'+i)"
   ]
  }
 ],
 "metadata": {
  "colab": {
   "name": "img_aug_code.ipynb",
   "provenance": []
  },
  "kernelspec": {
   "display_name": "Python [conda env:project_30] *",
   "language": "python",
   "name": "conda-env-project_30-py"
  },
  "language_info": {
   "codemirror_mode": {
    "name": "ipython",
    "version": 3
   },
   "file_extension": ".py",
   "mimetype": "text/x-python",
   "name": "python",
   "nbconvert_exporter": "python",
   "pygments_lexer": "ipython3",
   "version": "3.8.13"
  }
 },
 "nbformat": 4,
 "nbformat_minor": 5
}
